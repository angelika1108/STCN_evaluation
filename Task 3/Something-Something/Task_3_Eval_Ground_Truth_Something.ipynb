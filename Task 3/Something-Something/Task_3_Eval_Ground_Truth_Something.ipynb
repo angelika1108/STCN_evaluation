{
  "nbformat": 4,
  "nbformat_minor": 0,
  "metadata": {
    "colab": {
      "name": "Task_3_Eval_Something_STCN.ipynb",
      "provenance": [],
      "collapsed_sections": []
    },
    "kernelspec": {
      "name": "python3",
      "display_name": "Python 3"
    },
    "language_info": {
      "name": "python"
    }
  },
  "cells": [
    {
      "cell_type": "markdown",
      "source": [
        "### **STCN Evaluation on 13 videos of the Something-Something dataset**\n",
        "\n",
        "We are going to give a quantitative evaluation of STCN applied to 13 videos of the Something-Something dataset using the following code: https://github.com/davisvideochallenge/davis2017-evaluation.\n",
        "\n",
        "The first frame bounding-box annotations are the ground truth annotations."
      ],
      "metadata": {
        "id": "nhsWD-t4CVmm"
      }
    },
    {
      "cell_type": "code",
      "source": [
        "import os\n",
        "from google.colab import drive\n",
        "drive.mount('/content/drive/', force_remount=True)\n",
        "os.chdir('/content/drive/My Drive/')"
      ],
      "metadata": {
        "id": "kOZFv_5DbWft",
        "colab": {
          "base_uri": "https://localhost:8080/"
        },
        "outputId": "ce15f844-7711-4452-8dbc-1dc29ccfd03a"
      },
      "execution_count": null,
      "outputs": [
        {
          "output_type": "stream",
          "name": "stdout",
          "text": [
            "Mounted at /content/drive/\n"
          ]
        }
      ]
    },
    {
      "cell_type": "code",
      "source": [
        "%cd '/content/drive/MyDrive/STCN/davis2017-evaluation/'"
      ],
      "metadata": {
        "id": "IUQwCBAibrbS",
        "colab": {
          "base_uri": "https://localhost:8080/"
        },
        "outputId": "8241b222-d971-4041-eca9-c15fd69adccc"
      },
      "execution_count": null,
      "outputs": [
        {
          "output_type": "stream",
          "name": "stdout",
          "text": [
            "/content/drive/MyDrive/STCN/davis2017-evaluation\n"
          ]
        }
      ]
    },
    {
      "cell_type": "code",
      "source": [
        "import sys\n",
        "from time import time\n",
        "import argparse\n",
        "import numpy as np\n",
        "import pandas as pd\n",
        "from davis2017.evaluation import DAVISEvaluation"
      ],
      "metadata": {
        "id": "2D0rkMyzbR6Q"
      },
      "execution_count": null,
      "outputs": []
    },
    {
      "cell_type": "code",
      "source": [
        "default_davis_path = '/content/drive/MyDrive/STCN/Something480p'\n",
        "\n",
        "time_start = time()\n",
        "parser = argparse.ArgumentParser()\n",
        "parser.add_argument('--davis_path', type=str, help='Path to the DAVIS folder containing the JPEGImages, Annotations, '\n",
        "                                                   'ImageSets, Annotations_unsupervised folders',\n",
        "                    required=False, default=default_davis_path)\n",
        "parser.add_argument('--set', type=str, help='Subset to evaluate the results', default='val') # 'train' or 'val'\n",
        "parser.add_argument('--task', type=str, help='Task to evaluate the results', default='semi-supervised',\n",
        "                    choices=['semi-supervised', 'unsupervised'])\n",
        "parser.add_argument('--results_path', type=str, help='Path to the folder containing the sequences folders',\n",
        "                    default='/content/drive/MyDrive/STCN/Something480p/STCN-ground-truth')\n",
        "\n",
        "args, _ = parser.parse_known_args()\n",
        "csv_name_global = f'global_results-{args.set}.csv'\n",
        "csv_name_per_sequence = f'per-sequence_results-{args.set}.csv'"
      ],
      "metadata": {
        "id": "6Q8D7ObpgnoW"
      },
      "execution_count": null,
      "outputs": []
    },
    {
      "cell_type": "code",
      "source": [
        "# Check if the method has been evaluated before, if so read the results, otherwise compute the results\n",
        "csv_name_global_path = os.path.join(args.results_path, csv_name_global)\n",
        "csv_name_per_sequence_path = os.path.join(args.results_path, csv_name_per_sequence)\n",
        "if os.path.exists(csv_name_global_path) and os.path.exists(csv_name_per_sequence_path):\n",
        "    print('Using precomputed results...')\n",
        "    table_g = pd.read_csv(csv_name_global_path)\n",
        "    table_seq = pd.read_csv(csv_name_per_sequence_path)\n",
        "else:\n",
        "    print(f'Evaluating sequences for the {args.task} task...')\n",
        "    # Create dataset and evaluate\n",
        "    dataset_eval = DAVISEvaluation(davis_root=args.davis_path, task=args.task, gt_set=args.set)\n",
        "    metrics_res = dataset_eval.evaluate(args.results_path)\n",
        "    J, F = metrics_res['J'], metrics_res['F']\n",
        "\n",
        "    # Generate dataframe for the general results\n",
        "    g_measures = ['J&F-Mean', 'J-Mean', 'J-Recall', 'J-Decay', 'F-Mean', 'F-Recall', 'F-Decay']\n",
        "    final_mean = (np.mean(J[\"M\"]) + np.mean(F[\"M\"])) / 2.\n",
        "    g_res = np.array([final_mean, np.mean(J[\"M\"]), np.mean(J[\"R\"]), np.mean(J[\"D\"]), np.mean(F[\"M\"]), np.mean(F[\"R\"]),\n",
        "                      np.mean(F[\"D\"])])\n",
        "    g_res = np.reshape(g_res, [1, len(g_res)])\n",
        "    table_g = pd.DataFrame(data=g_res, columns=g_measures)\n",
        "    with open(csv_name_global_path, 'w') as f:\n",
        "        table_g.to_csv(f, index=False, float_format=\"%.3f\")\n",
        "    print(f'Global results saved in {csv_name_global_path}')\n",
        "\n",
        "    # Generate a dataframe for the per sequence results\n",
        "    seq_names = list(J['M_per_object'].keys())\n",
        "    seq_measures = ['Sequence', 'J-Mean', 'F-Mean']\n",
        "    J_per_object = [J['M_per_object'][x] for x in seq_names]\n",
        "    F_per_object = [F['M_per_object'][x] for x in seq_names]\n",
        "    table_seq = pd.DataFrame(data=list(zip(seq_names, J_per_object, F_per_object)), columns=seq_measures)\n",
        "    with open(csv_name_per_sequence_path, 'w') as f:\n",
        "        table_seq.to_csv(f, index=False, float_format=\"%.3f\")\n",
        "    print(f'Per-sequence results saved in {csv_name_per_sequence_path}')\n",
        "\n",
        "# Print the results\n",
        "sys.stdout.write(f\"--------------------------- Global results for {args.set} ---------------------------\\n\")\n",
        "print(table_g.to_string(index=False))\n",
        "sys.stdout.write(f\"\\n---------- Per sequence results for {args.set} ----------\\n\")\n",
        "print(table_seq.to_string(index=False))\n",
        "total_time = time() - time_start\n",
        "sys.stdout.write('\\nTotal time:' + str(total_time))"
      ],
      "metadata": {
        "id": "s1ssuj57Y2EF",
        "colab": {
          "base_uri": "https://localhost:8080/"
        },
        "outputId": "a7033533-22ea-4455-a00a-aee2383978ad"
      },
      "execution_count": null,
      "outputs": [
        {
          "output_type": "stream",
          "name": "stdout",
          "text": [
            "Evaluating sequences for the semi-supervised task...\n",
            "sequences_names ['2', '4', '862', '2003', '3201', '6981', '13201', '22983', '44862', '57082', '77005', '80962', '151201']\n"
          ]
        },
        {
          "output_type": "stream",
          "name": "stderr",
          "text": [
            "\r  0%|          | 0/13 [00:00<?, ?it/s]"
          ]
        },
        {
          "output_type": "stream",
          "name": "stdout",
          "text": [
            "self.sequences[sequence][obj_type][0] /content/drive/MyDrive/STCN/Something480p/Annotations/480p/2/00000.png\n",
            "masks.shape (48, 480, 854)\n",
            "num_objects 2\n",
            "tmp.shape (2, 48, 480, 854)\n"
          ]
        },
        {
          "output_type": "stream",
          "name": "stderr",
          "text": [
            "\r  8%|▊         | 1/13 [00:03<00:36,  3.01s/it]"
          ]
        },
        {
          "output_type": "stream",
          "name": "stdout",
          "text": [
            "self.sequences[sequence][obj_type][0] /content/drive/MyDrive/STCN/Something480p/Annotations/480p/4/00000.png\n",
            "masks.shape (42, 480, 854)\n",
            "num_objects 4\n",
            "tmp.shape (4, 42, 480, 854)\n"
          ]
        },
        {
          "output_type": "stream",
          "name": "stderr",
          "text": [
            "\r 15%|█▌        | 2/13 [00:07<00:39,  3.61s/it]"
          ]
        },
        {
          "output_type": "stream",
          "name": "stdout",
          "text": [
            "self.sequences[sequence][obj_type][0] /content/drive/MyDrive/STCN/Something480p/Annotations/480p/862/00000.png\n",
            "masks.shape (47, 480, 854)\n",
            "num_objects 1\n",
            "tmp.shape (1, 47, 480, 854)\n"
          ]
        },
        {
          "output_type": "stream",
          "name": "stderr",
          "text": [
            "\r 23%|██▎       | 3/13 [00:08<00:26,  2.66s/it]"
          ]
        },
        {
          "output_type": "stream",
          "name": "stdout",
          "text": [
            "self.sequences[sequence][obj_type][0] /content/drive/MyDrive/STCN/Something480p/Annotations/480p/2003/00000.png\n",
            "masks.shape (43, 480, 854)\n",
            "num_objects 1\n",
            "tmp.shape (1, 43, 480, 854)\n"
          ]
        },
        {
          "output_type": "stream",
          "name": "stderr",
          "text": [
            "\r 31%|███       | 4/13 [00:47<02:32, 16.94s/it]"
          ]
        },
        {
          "output_type": "stream",
          "name": "stdout",
          "text": [
            "self.sequences[sequence][obj_type][0] /content/drive/MyDrive/STCN/Something480p/Annotations/480p/3201/00000.png\n",
            "masks.shape (43, 480, 852)\n",
            "num_objects 1\n",
            "tmp.shape (1, 43, 480, 852)\n"
          ]
        },
        {
          "output_type": "stream",
          "name": "stderr",
          "text": [
            "\r 38%|███▊      | 5/13 [01:24<03:14, 24.37s/it]"
          ]
        },
        {
          "output_type": "stream",
          "name": "stdout",
          "text": [
            "self.sequences[sequence][obj_type][0] /content/drive/MyDrive/STCN/Something480p/Annotations/480p/6981/00000.png\n",
            "masks.shape (23, 480, 854)\n",
            "num_objects 3\n",
            "tmp.shape (3, 23, 480, 854)\n"
          ]
        },
        {
          "output_type": "stream",
          "name": "stderr",
          "text": [
            "\r 46%|████▌     | 6/13 [01:45<02:40, 22.96s/it]"
          ]
        },
        {
          "output_type": "stream",
          "name": "stdout",
          "text": [
            "self.sequences[sequence][obj_type][0] /content/drive/MyDrive/STCN/Something480p/Annotations/480p/13201/00000.png\n",
            "masks.shape (49, 480, 640)\n",
            "num_objects 2\n",
            "tmp.shape (2, 49, 480, 640)\n"
          ]
        },
        {
          "output_type": "stream",
          "name": "stderr",
          "text": [
            "\r 54%|█████▍    | 7/13 [02:28<02:56, 29.47s/it]"
          ]
        },
        {
          "output_type": "stream",
          "name": "stdout",
          "text": [
            "self.sequences[sequence][obj_type][0] /content/drive/MyDrive/STCN/Something480p/Annotations/480p/22983/00000.png\n",
            "masks.shape (52, 480, 720)\n",
            "num_objects 2\n",
            "tmp.shape (2, 52, 480, 720)\n"
          ]
        },
        {
          "output_type": "stream",
          "name": "stderr",
          "text": [
            "\r 62%|██████▏   | 8/13 [03:14<02:54, 34.87s/it]"
          ]
        },
        {
          "output_type": "stream",
          "name": "stdout",
          "text": [
            "self.sequences[sequence][obj_type][0] /content/drive/MyDrive/STCN/Something480p/Annotations/480p/44862/00000.png\n",
            "masks.shape (46, 480, 854)\n",
            "num_objects 2\n",
            "tmp.shape (2, 46, 480, 854)\n"
          ]
        },
        {
          "output_type": "stream",
          "name": "stderr",
          "text": [
            "\r 69%|██████▉   | 9/13 [03:55<02:27, 36.86s/it]"
          ]
        },
        {
          "output_type": "stream",
          "name": "stdout",
          "text": [
            "self.sequences[sequence][obj_type][0] /content/drive/MyDrive/STCN/Something480p/Annotations/480p/57082/00000.png\n",
            "masks.shape (38, 480, 854)\n",
            "num_objects 2\n",
            "tmp.shape (2, 38, 480, 854)\n"
          ]
        },
        {
          "output_type": "stream",
          "name": "stderr",
          "text": [
            "\r 77%|███████▋  | 10/13 [04:29<01:47, 35.92s/it]"
          ]
        },
        {
          "output_type": "stream",
          "name": "stdout",
          "text": [
            "self.sequences[sequence][obj_type][0] /content/drive/MyDrive/STCN/Something480p/Annotations/480p/77005/00000.png\n",
            "masks.shape (43, 480, 854)\n",
            "num_objects 1\n",
            "tmp.shape (1, 43, 480, 854)\n"
          ]
        },
        {
          "output_type": "stream",
          "name": "stderr",
          "text": [
            "\r 85%|████████▍ | 11/13 [05:05<01:11, 35.98s/it]"
          ]
        },
        {
          "output_type": "stream",
          "name": "stdout",
          "text": [
            "self.sequences[sequence][obj_type][0] /content/drive/MyDrive/STCN/Something480p/Annotations/480p/80962/00000.png\n",
            "masks.shape (58, 480, 854)\n",
            "num_objects 1\n",
            "tmp.shape (1, 58, 480, 854)\n"
          ]
        },
        {
          "output_type": "stream",
          "name": "stderr",
          "text": [
            "\r 92%|█████████▏| 12/13 [05:56<00:40, 40.42s/it]"
          ]
        },
        {
          "output_type": "stream",
          "name": "stdout",
          "text": [
            "self.sequences[sequence][obj_type][0] /content/drive/MyDrive/STCN/Something480p/Annotations/480p/151201/00000.png\n",
            "masks.shape (23, 480, 800)\n",
            "num_objects 2\n",
            "tmp.shape (2, 23, 480, 800)\n"
          ]
        },
        {
          "output_type": "stream",
          "name": "stderr",
          "text": [
            "100%|██████████| 13/13 [06:16<00:00, 28.94s/it]"
          ]
        },
        {
          "output_type": "stream",
          "name": "stdout",
          "text": [
            "Global results saved in /content/drive/MyDrive/STCN/Something480p/STCN-ground-truth/global_results-val.csv\n",
            "Per-sequence results saved in /content/drive/MyDrive/STCN/Something480p/STCN-ground-truth/per-sequence_results-val.csv\n",
            "--------------------------- Global results for val ---------------------------\n",
            " J&F-Mean    J-Mean  J-Recall   J-Decay    F-Mean  F-Recall   F-Decay\n",
            " 0.414307  0.530321  0.614764  0.178723  0.298292  0.231839  0.150119\n",
            "\n",
            "---------- Per sequence results for val ----------\n",
            " Sequence    J-Mean    F-Mean\n",
            "      2_1  0.793358  0.225419\n",
            "      2_2  0.459444  0.168914\n",
            "      4_1  0.000000  0.000000\n",
            "      4_2  0.070790  0.126827\n",
            "      4_3  0.013458  0.098063\n",
            "      4_4  0.000000  0.000000\n",
            "    862_1  0.599344  0.351489\n",
            "   2003_1  0.780077  0.508313\n",
            "   3201_1  0.829679  0.560113\n",
            "   6981_1  0.476228  0.516717\n",
            "   6981_2  0.753225  0.291209\n",
            "   6981_3  0.891751  0.699315\n",
            "  13201_1  0.830584  0.104978\n",
            "  13201_2  0.575099  0.152427\n",
            "  22983_1  0.558658  0.272559\n",
            "  22983_2  0.658384  0.209383\n",
            "  44862_1  0.420694  0.183147\n",
            "  44862_2  0.491939  0.056455\n",
            "  57082_1  0.868643  0.625935\n",
            "  57082_2  0.581538  0.524564\n",
            "  77005_1  0.400283  0.375948\n",
            "  80962_1  0.630613  0.690041\n",
            " 151201_1  0.533642  0.260092\n",
            " 151201_2  0.510283  0.157094\n",
            "\n",
            "Total time:378.505606174469"
          ]
        },
        {
          "output_type": "stream",
          "name": "stderr",
          "text": [
            "\n"
          ]
        }
      ]
    },
    {
      "cell_type": "code",
      "source": [
        ""
      ],
      "metadata": {
        "id": "_Cfiq5AyPWBz"
      },
      "execution_count": null,
      "outputs": []
    }
  ]
}