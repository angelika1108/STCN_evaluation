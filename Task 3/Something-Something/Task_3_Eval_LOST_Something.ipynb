{
  "nbformat": 4,
  "nbformat_minor": 0,
  "metadata": {
    "colab": {
      "name": "Task_3_Eval_LOST_Something.ipynb",
      "provenance": [],
      "collapsed_sections": []
    },
    "kernelspec": {
      "name": "python3",
      "display_name": "Python 3"
    },
    "language_info": {
      "name": "python"
    }
  },
  "cells": [
    {
      "cell_type": "markdown",
      "source": [
        "### **STCN Evaluation on 13 videos of the Something-Something dataset**\n",
        "\n",
        "We are going to give a quantitative evaluation of STCN applied to 13 videos of the Something-Something dataset using the following code: https://github.com/davisvideochallenge/davis2017-evaluation.\n",
        "\n",
        "The first frame bounding-box annotations are given by LOST."
      ],
      "metadata": {
        "id": "nhsWD-t4CVmm"
      }
    },
    {
      "cell_type": "code",
      "source": [
        "import os\n",
        "from google.colab import drive\n",
        "drive.mount('/content/drive/', force_remount=True)\n",
        "os.chdir('/content/drive/My Drive/')"
      ],
      "metadata": {
        "id": "kOZFv_5DbWft",
        "colab": {
          "base_uri": "https://localhost:8080/"
        },
        "outputId": "cb60e8f3-20ed-4bc6-d7b8-25227fc50fbf"
      },
      "execution_count": null,
      "outputs": [
        {
          "output_type": "stream",
          "name": "stdout",
          "text": [
            "Mounted at /content/drive/\n"
          ]
        }
      ]
    },
    {
      "cell_type": "code",
      "source": [
        "%cd '/content/drive/MyDrive/STCN/davis2017-evaluation/'"
      ],
      "metadata": {
        "id": "IUQwCBAibrbS",
        "colab": {
          "base_uri": "https://localhost:8080/"
        },
        "outputId": "ce236280-7f7b-4975-f0bd-a594fbb75cbc"
      },
      "execution_count": null,
      "outputs": [
        {
          "output_type": "stream",
          "name": "stdout",
          "text": [
            "/content/drive/MyDrive/STCN/davis2017-evaluation\n"
          ]
        }
      ]
    },
    {
      "cell_type": "code",
      "source": [
        "import sys\n",
        "from time import time\n",
        "import argparse\n",
        "import numpy as np\n",
        "import pandas as pd\n",
        "from davis2017.evaluation import DAVISEvaluation"
      ],
      "metadata": {
        "id": "2D0rkMyzbR6Q"
      },
      "execution_count": null,
      "outputs": []
    },
    {
      "cell_type": "code",
      "source": [
        "default_davis_path = '/content/drive/MyDrive/STCN/Something480p'\n",
        "\n",
        "time_start = time()\n",
        "parser = argparse.ArgumentParser()\n",
        "parser.add_argument('--davis_path', type=str, help='Path to the DAVIS folder containing the JPEGImages, Annotations, '\n",
        "                                                   'ImageSets, Annotations_unsupervised folders',\n",
        "                    required=False, default=default_davis_path)\n",
        "parser.add_argument('--set', type=str, help='Subset to evaluate the results', default='val') # 'train' or 'val'\n",
        "parser.add_argument('--task', type=str, help='Task to evaluate the results', default='semi-supervised',\n",
        "                    choices=['semi-supervised', 'unsupervised'])\n",
        "parser.add_argument('--results_path', type=str, help='Path to the folder containing the sequences folders',\n",
        "                    default='/content/drive/MyDrive/STCN/Something480p/STCN-LOST')\n",
        "\n",
        "args, _ = parser.parse_known_args()\n",
        "csv_name_global = f'global_results-{args.set}.csv'\n",
        "csv_name_per_sequence = f'per-sequence_results-{args.set}.csv'"
      ],
      "metadata": {
        "id": "6Q8D7ObpgnoW"
      },
      "execution_count": null,
      "outputs": []
    },
    {
      "cell_type": "code",
      "source": [
        "# Check if the method has been evaluated before, if so read the results, otherwise compute the results\n",
        "csv_name_global_path = os.path.join(args.results_path, csv_name_global)\n",
        "csv_name_per_sequence_path = os.path.join(args.results_path, csv_name_per_sequence)\n",
        "if os.path.exists(csv_name_global_path) and os.path.exists(csv_name_per_sequence_path):\n",
        "    print('Using precomputed results...')\n",
        "    table_g = pd.read_csv(csv_name_global_path)\n",
        "    table_seq = pd.read_csv(csv_name_per_sequence_path)\n",
        "else:\n",
        "    print(f'Evaluating sequences for the {args.task} task...')\n",
        "    # Create dataset and evaluate\n",
        "    dataset_eval = DAVISEvaluation(davis_root=args.davis_path, task=args.task, gt_set=args.set)\n",
        "    metrics_res = dataset_eval.evaluate(args.results_path)\n",
        "    J, F = metrics_res['J'], metrics_res['F']\n",
        "\n",
        "    # Generate dataframe for the general results\n",
        "    g_measures = ['J&F-Mean', 'J-Mean', 'J-Recall', 'J-Decay', 'F-Mean', 'F-Recall', 'F-Decay']\n",
        "    final_mean = (np.mean(J[\"M\"]) + np.mean(F[\"M\"])) / 2.\n",
        "    g_res = np.array([final_mean, np.mean(J[\"M\"]), np.mean(J[\"R\"]), np.mean(J[\"D\"]), np.mean(F[\"M\"]), np.mean(F[\"R\"]),\n",
        "                      np.mean(F[\"D\"])])\n",
        "    g_res = np.reshape(g_res, [1, len(g_res)])\n",
        "    table_g = pd.DataFrame(data=g_res, columns=g_measures)\n",
        "    with open(csv_name_global_path, 'w') as f:\n",
        "        table_g.to_csv(f, index=False, float_format=\"%.3f\")\n",
        "    print(f'Global results saved in {csv_name_global_path}')\n",
        "\n",
        "    # Generate a dataframe for the per sequence results\n",
        "    seq_names = list(J['M_per_object'].keys())\n",
        "    seq_measures = ['Sequence', 'J-Mean', 'F-Mean']\n",
        "    J_per_object = [J['M_per_object'][x] for x in seq_names]\n",
        "    F_per_object = [F['M_per_object'][x] for x in seq_names]\n",
        "    table_seq = pd.DataFrame(data=list(zip(seq_names, J_per_object, F_per_object)), columns=seq_measures)\n",
        "    with open(csv_name_per_sequence_path, 'w') as f:\n",
        "        table_seq.to_csv(f, index=False, float_format=\"%.3f\")\n",
        "    print(f'Per-sequence results saved in {csv_name_per_sequence_path}')\n",
        "\n",
        "# Print the results\n",
        "sys.stdout.write(f\"--------------------------- Global results for {args.set} ---------------------------\\n\")\n",
        "print(table_g.to_string(index=False))\n",
        "sys.stdout.write(f\"\\n---------- Per sequence results for {args.set} ----------\\n\")\n",
        "print(table_seq.to_string(index=False))\n",
        "total_time = time() - time_start\n",
        "sys.stdout.write('\\nTotal time:' + str(total_time))"
      ],
      "metadata": {
        "id": "s1ssuj57Y2EF",
        "colab": {
          "base_uri": "https://localhost:8080/"
        },
        "outputId": "5717c5e9-2522-4fd6-c223-e62892895ebe"
      },
      "execution_count": null,
      "outputs": [
        {
          "output_type": "stream",
          "name": "stdout",
          "text": [
            "Evaluating sequences for the semi-supervised task...\n",
            "sequences_names ['2', '4', '862', '2003', '3201', '6981', '13201', '22983', '44862', '57082', '77005', '80962', '151201']\n"
          ]
        },
        {
          "output_type": "stream",
          "name": "stderr",
          "text": [
            "\r  0%|          | 0/13 [00:00<?, ?it/s]"
          ]
        },
        {
          "output_type": "stream",
          "name": "stdout",
          "text": [
            "self.sequences[sequence][obj_type][0] /content/drive/MyDrive/STCN/Something480p/Annotations/480p/2/00000.png\n",
            "masks.shape (48, 480, 854)\n",
            "num_objects 2\n",
            "tmp.shape (2, 48, 480, 854)\n"
          ]
        },
        {
          "output_type": "stream",
          "name": "stderr",
          "text": [
            "\r  8%|▊         | 1/13 [01:04<12:52, 64.37s/it]"
          ]
        },
        {
          "output_type": "stream",
          "name": "stdout",
          "text": [
            "self.sequences[sequence][obj_type][0] /content/drive/MyDrive/STCN/Something480p/Annotations/480p/4/00000.png\n",
            "masks.shape (42, 480, 854)\n",
            "num_objects 4\n",
            "tmp.shape (4, 42, 480, 854)\n"
          ]
        },
        {
          "output_type": "stream",
          "name": "stderr",
          "text": [
            "\r 15%|█▌        | 2/13 [02:00<10:52, 59.31s/it]"
          ]
        },
        {
          "output_type": "stream",
          "name": "stdout",
          "text": [
            "self.sequences[sequence][obj_type][0] /content/drive/MyDrive/STCN/Something480p/Annotations/480p/862/00000.png\n",
            "masks.shape (47, 480, 854)\n",
            "num_objects 1\n",
            "tmp.shape (1, 47, 480, 854)\n"
          ]
        },
        {
          "output_type": "stream",
          "name": "stderr",
          "text": [
            "\r 23%|██▎       | 3/13 [02:58<09:47, 58.75s/it]"
          ]
        },
        {
          "output_type": "stream",
          "name": "stdout",
          "text": [
            "self.sequences[sequence][obj_type][0] /content/drive/MyDrive/STCN/Something480p/Annotations/480p/2003/00000.png\n",
            "masks.shape (43, 480, 854)\n",
            "num_objects 1\n",
            "tmp.shape (1, 43, 480, 854)\n"
          ]
        },
        {
          "output_type": "stream",
          "name": "stderr",
          "text": [
            "\r 31%|███       | 4/13 [03:51<08:29, 56.60s/it]"
          ]
        },
        {
          "output_type": "stream",
          "name": "stdout",
          "text": [
            "self.sequences[sequence][obj_type][0] /content/drive/MyDrive/STCN/Something480p/Annotations/480p/3201/00000.png\n",
            "masks.shape (43, 480, 852)\n",
            "num_objects 1\n",
            "tmp.shape (1, 43, 480, 852)\n"
          ]
        },
        {
          "output_type": "stream",
          "name": "stderr",
          "text": [
            "\r 38%|███▊      | 5/13 [04:45<07:24, 55.52s/it]"
          ]
        },
        {
          "output_type": "stream",
          "name": "stdout",
          "text": [
            "self.sequences[sequence][obj_type][0] /content/drive/MyDrive/STCN/Something480p/Annotations/480p/6981/00000.png\n",
            "masks.shape (23, 480, 854)\n",
            "num_objects 3\n",
            "tmp.shape (3, 23, 480, 854)\n"
          ]
        },
        {
          "output_type": "stream",
          "name": "stderr",
          "text": [
            "\r 46%|████▌     | 6/13 [05:14<05:25, 46.47s/it]"
          ]
        },
        {
          "output_type": "stream",
          "name": "stdout",
          "text": [
            "self.sequences[sequence][obj_type][0] /content/drive/MyDrive/STCN/Something480p/Annotations/480p/13201/00000.png\n",
            "masks.shape (49, 480, 640)\n",
            "num_objects 2\n",
            "tmp.shape (2, 49, 480, 640)\n"
          ]
        },
        {
          "output_type": "stream",
          "name": "stderr",
          "text": [
            "\r 54%|█████▍    | 7/13 [06:15<05:07, 51.26s/it]"
          ]
        },
        {
          "output_type": "stream",
          "name": "stdout",
          "text": [
            "self.sequences[sequence][obj_type][0] /content/drive/MyDrive/STCN/Something480p/Annotations/480p/22983/00000.png\n",
            "masks.shape (52, 480, 720)\n",
            "num_objects 2\n",
            "tmp.shape (2, 52, 480, 720)\n"
          ]
        },
        {
          "output_type": "stream",
          "name": "stderr",
          "text": [
            "\r 62%|██████▏   | 8/13 [07:21<04:40, 56.18s/it]"
          ]
        },
        {
          "output_type": "stream",
          "name": "stdout",
          "text": [
            "self.sequences[sequence][obj_type][0] /content/drive/MyDrive/STCN/Something480p/Annotations/480p/44862/00000.png\n",
            "masks.shape (46, 480, 854)\n",
            "num_objects 2\n",
            "tmp.shape (2, 46, 480, 854)\n"
          ]
        },
        {
          "output_type": "stream",
          "name": "stderr",
          "text": [
            "\r 69%|██████▉   | 9/13 [08:20<03:47, 56.99s/it]"
          ]
        },
        {
          "output_type": "stream",
          "name": "stdout",
          "text": [
            "self.sequences[sequence][obj_type][0] /content/drive/MyDrive/STCN/Something480p/Annotations/480p/57082/00000.png\n",
            "masks.shape (38, 480, 854)\n",
            "num_objects 2\n",
            "tmp.shape (2, 38, 480, 854)\n"
          ]
        },
        {
          "output_type": "stream",
          "name": "stderr",
          "text": [
            "\r 77%|███████▋  | 10/13 [09:08<02:42, 54.20s/it]"
          ]
        },
        {
          "output_type": "stream",
          "name": "stdout",
          "text": [
            "self.sequences[sequence][obj_type][0] /content/drive/MyDrive/STCN/Something480p/Annotations/480p/77005/00000.png\n",
            "masks.shape (43, 480, 854)\n",
            "num_objects 1\n",
            "tmp.shape (1, 43, 480, 854)\n"
          ]
        },
        {
          "output_type": "stream",
          "name": "stderr",
          "text": [
            "\r 85%|████████▍ | 11/13 [10:00<01:46, 53.35s/it]"
          ]
        },
        {
          "output_type": "stream",
          "name": "stdout",
          "text": [
            "self.sequences[sequence][obj_type][0] /content/drive/MyDrive/STCN/Something480p/Annotations/480p/80962/00000.png\n",
            "masks.shape (58, 480, 854)\n",
            "num_objects 1\n",
            "tmp.shape (1, 58, 480, 854)\n"
          ]
        },
        {
          "output_type": "stream",
          "name": "stderr",
          "text": [
            "\r 92%|█████████▏| 12/13 [11:11<00:58, 58.92s/it]"
          ]
        },
        {
          "output_type": "stream",
          "name": "stdout",
          "text": [
            "self.sequences[sequence][obj_type][0] /content/drive/MyDrive/STCN/Something480p/Annotations/480p/151201/00000.png\n",
            "masks.shape (23, 480, 800)\n",
            "num_objects 2\n",
            "tmp.shape (2, 23, 480, 800)\n"
          ]
        },
        {
          "output_type": "stream",
          "name": "stderr",
          "text": [
            "100%|██████████| 13/13 [11:41<00:00, 53.93s/it]"
          ]
        },
        {
          "output_type": "stream",
          "name": "stdout",
          "text": [
            "Global results saved in /content/drive/MyDrive/STCN/Something480p/STCN-LOST/global_results-val.csv\n",
            "Per-sequence results saved in /content/drive/MyDrive/STCN/Something480p/STCN-LOST/per-sequence_results-val.csv\n",
            "--------------------------- Global results for val ---------------------------\n",
            " J&F-Mean    J-Mean  J-Recall   J-Decay    F-Mean  F-Recall   F-Decay\n",
            " 0.172409  0.209377  0.181237 -0.095297  0.135442  0.100425 -0.123935\n",
            "\n",
            "---------- Per sequence results for val ----------\n",
            " Sequence    J-Mean    F-Mean\n",
            "      2_1  0.377592  0.102787\n",
            "      2_2  0.152174  0.152174\n",
            "      4_1  0.000000  0.000000\n",
            "      4_2  0.000000  0.000000\n",
            "      4_3  0.000000  0.000000\n",
            "      4_4  0.000000  0.000000\n",
            "    862_1  0.633898  0.269985\n",
            "   2003_1  0.165947  0.058197\n",
            "   3201_1  0.825557  0.526886\n",
            "   6981_1  0.000736  0.046414\n",
            "   6981_2  0.000000  0.000000\n",
            "   6981_3  0.571429  0.571429\n",
            "  13201_1  0.163200  0.020679\n",
            "  13201_2  0.106383  0.106383\n",
            "  22983_1  0.295470  0.131132\n",
            "  22983_2  0.060000  0.060000\n",
            "  44862_1  0.368552  0.077615\n",
            "  44862_2  0.000000  0.000000\n",
            "  57082_1  0.001552  0.075762\n",
            "  57082_2  0.000000  0.000000\n",
            "  77005_1  0.259036  0.117136\n",
            "  80962_1  0.623125  0.669776\n",
            " 151201_1  0.229910  0.073786\n",
            " 151201_2  0.190476  0.190476\n",
            "\n",
            "Total time:709.0010492801666"
          ]
        },
        {
          "output_type": "stream",
          "name": "stderr",
          "text": [
            "\n"
          ]
        }
      ]
    },
    {
      "cell_type": "code",
      "source": [
        " "
      ],
      "metadata": {
        "id": "1znFePqewde9"
      },
      "execution_count": null,
      "outputs": []
    },
    {
      "cell_type": "code",
      "source": [
        ""
      ],
      "metadata": {
        "id": "q5p-NXoVvd7a"
      },
      "execution_count": null,
      "outputs": []
    }
  ]
}